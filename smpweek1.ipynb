{
 "cells": [
  {
   "cell_type": "markdown",
   "id": "c467d2e4-45b2-4ca9-a2ae-00a44c1e1c21",
   "metadata": {},
   "source": [
    "# IMPORT"
   ]
  },
  {
   "cell_type": "code",
   "execution_count": 296,
   "id": "7db5aa17-18bd-4b43-adf8-1176c55461ed",
   "metadata": {},
   "outputs": [],
   "source": [
    "import pandas as pd\n",
    "import numpy as np\n",
    "from sklearn.pipeline import Pipeline\n",
    "from sklearn.compose import ColumnTransformer\n",
    "from sklearn.preprocessing import OneHotEncoder, StandardScaler\n",
    "from sklearn.impute import SimpleImputer\n",
    "from sklearn.ensemble import RandomForestClassifier\n",
    "from sklearn.model_selection import train_test_split\n",
    "from imblearn.over_sampling import RandomOverSampler\n",
    "from imblearn.under_sampling import RandomUnderSampler\n",
    "from imblearn.pipeline import make_pipeline"
   ]
  },
  {
   "cell_type": "markdown",
   "id": "2e366a24-4151-4ec9-bb0d-296a6a25bdee",
   "metadata": {},
   "source": [
    "# DATA CLEANING"
   ]
  },
  {
   "cell_type": "code",
   "execution_count": 297,
   "id": "d3e4bf06-d0d0-4639-9fe6-4f0e65ff21dc",
   "metadata": {},
   "outputs": [
    {
     "name": "stdout",
     "output_type": "stream",
     "text": [
      "<class 'pandas.core.frame.DataFrame'>\n",
      "RangeIndex: 73113 entries, 0 to 73112\n",
      "Data columns (total 40 columns):\n",
      " #   Column                      Non-Null Count  Dtype  \n",
      "---  ------                      --------------  -----  \n",
      " 0   ID                          73113 non-null  int64  \n",
      " 1   Client_Income               70928 non-null  object \n",
      " 2   Car_Owned                   70939 non-null  float64\n",
      " 3   Bike_Owned                  70940 non-null  float64\n",
      " 4   Active_Loan                 70936 non-null  float64\n",
      " 5   House_Own                   70943 non-null  float64\n",
      " 6   Child_Count                 70889 non-null  float64\n",
      " 7   Credit_Amount               70923 non-null  object \n",
      " 8   Loan_Annuity                70256 non-null  object \n",
      " 9   Accompany_Client            72065 non-null  object \n",
      " 10  Client_Income_Type          70893 non-null  object \n",
      " 11  Client_Education            70918 non-null  object \n",
      " 12  Client_Marital_Status       71058 non-null  object \n",
      " 13  Client_Gender               71681 non-null  object \n",
      " 14  Loan_Contract_Type          70914 non-null  object \n",
      " 15  Client_Housing_Type         70910 non-null  object \n",
      " 16  Population_Region_Relative  70228 non-null  object \n",
      " 17  Age_Days                    70985 non-null  object \n",
      " 18  Employed_Days               70847 non-null  object \n",
      " 19  Registration_Days           71002 non-null  object \n",
      " 20  ID_Days                     69482 non-null  object \n",
      " 21  Own_House_Age               25093 non-null  float64\n",
      " 22  Mobile_Tag                  73113 non-null  int64  \n",
      " 23  Homephone_Tag               73113 non-null  int64  \n",
      " 24  Workphone_Working           73113 non-null  int64  \n",
      " 25  Client_Occupation           48289 non-null  object \n",
      " 26  Client_Family_Members       71664 non-null  float64\n",
      " 27  Cleint_City_Rating          71659 non-null  float64\n",
      " 28  Application_Process_Day     71631 non-null  float64\n",
      " 29  Application_Process_Hour    70918 non-null  float64\n",
      " 30  Client_Permanent_Match_Tag  73113 non-null  object \n",
      " 31  Client_Contact_Work_Tag     73113 non-null  object \n",
      " 32  Type_Organization           70945 non-null  object \n",
      " 33  Score_Source_1              31723 non-null  float64\n",
      " 34  Score_Source_2              69728 non-null  float64\n",
      " 35  Score_Source_3              56957 non-null  float64\n",
      " 36  Social_Circle_Default       35886 non-null  float64\n",
      " 37  Phone_Change                70859 non-null  float64\n",
      " 38  Credit_Bureau               61961 non-null  float64\n",
      " 39  Default                     73113 non-null  int64  \n",
      "dtypes: float64(16), int64(5), object(19)\n",
      "memory usage: 22.3+ MB\n"
     ]
    }
   ],
   "source": [
    "df = pd.read_csv(\"Train.csv\", low_memory=False)\n",
    "df.info()\n",
    "def clean_currency(value):\n",
    "    if pd.isna(value): return np.nan\n",
    "    try:\n",
    "        if isinstance(value, str):\n",
    "            cleaned = ''.join(c for c in value if c.isdigit() or c == '.')\n",
    "            return float(cleaned) if cleaned else np.nan\n",
    "        return float(value)\n",
    "    except:\n",
    "        return np.nan\n",
    "\n",
    "currency_cols = ['Client_Income', 'Credit_Amount']\n",
    "for col in currency_cols:\n",
    "    df[col] = df[col].astype(str).apply(clean_currency)\n",
    "    df[col] = pd.to_numeric(df[col], errors='coerce')\n",
    "\n",
    "numeric_cols = ['Population_Region_Relative', 'Loan_Annuity', 'Age_Days',\n",
    "                'Employed_Days', 'Registration_Days', 'ID_Days']\n",
    "for col in numeric_cols:\n",
    "    df[col] = pd.to_numeric(df[col], errors='coerce')"
   ]
  },
  {
   "cell_type": "markdown",
   "id": "9b74a737-f7b8-42bc-a382-2efcee2eef43",
   "metadata": {},
   "source": [
    "# TRAIN TEST SPLIT"
   ]
  },
  {
   "cell_type": "code",
   "execution_count": 298,
   "id": "597af1e5-ff12-42c4-bc53-64b07b5b352d",
   "metadata": {},
   "outputs": [],
   "source": [
    "\n",
    "#Dropping unnecessary columns and split\n",
    "df1 = df.drop([\"ID\", \"Type_Organization\"], axis=1)\n",
    "X = df1.drop(\"Default\", axis=1)\n",
    "y = df1[\"Default\"]\n",
    "X_train, X_test, y_train, y_test = train_test_split(X, y, stratify=y, test_size=0.2, random_state=42)\n"
   ]
  },
  {
   "cell_type": "markdown",
   "id": "8742cab6-e9ba-40c2-9fc7-e858ee056c3a",
   "metadata": {},
   "source": [
    "# SPLITTING NUMERICAL AND CATEGORICAL DATA"
   ]
  },
  {
   "cell_type": "code",
   "execution_count": 299,
   "id": "76029cb8-f40d-420b-84f8-02e00927f43b",
   "metadata": {},
   "outputs": [],
   "source": [
    "\n",
    "numeric_features = ['Client_Income', 'Car_Owned', 'Bike_Owned', 'Active_Loan',\n",
    "                    'House_Own', 'Child_Count', 'Credit_Amount', 'Loan_Annuity',\n",
    "                    'Population_Region_Relative', 'Age_Days', 'Employed_Days',\n",
    "                    'Registration_Days', 'ID_Days', 'Client_Family_Members',\n",
    "                    'Cleint_City_Rating', 'Application_Process_Day',\n",
    "                    'Application_Process_Hour', 'Score_Source_1', 'Score_Source_2',\n",
    "                    'Score_Source_3', 'Social_Circle_Default', 'Phone_Change',\n",
    "                    'Credit_Bureau']\n",
    "\n",
    "categorical_features = ['Accompany_Client', 'Client_Income_Type', 'Client_Education',\n",
    "                        'Client_Marital_Status', 'Client_Gender', 'Loan_Contract_Type',\n",
    "                        'Client_Housing_Type', 'Client_Occupation']"
   ]
  },
  {
   "cell_type": "markdown",
   "id": "95fc7946-9078-4853-9341-ed8a56ea26a8",
   "metadata": {},
   "source": [
    "# INPUTING AND SCALING OF NUMERICAL DATA"
   ]
  },
  {
   "cell_type": "code",
   "execution_count": 300,
   "id": "98e9ce52-de75-4e43-adf4-1ce7bdcb9961",
   "metadata": {},
   "outputs": [],
   "source": [
    "numeric_pipeline = Pipeline(steps=[\n",
    "    ('imputer', SimpleImputer()), \n",
    "    ('scaler', StandardScaler())\n",
    "])"
   ]
  },
  {
   "cell_type": "markdown",
   "id": "982e22e0-ecb5-4dd6-bf4f-cc93b9015e54",
   "metadata": {},
   "source": [
    "# INPUTING AND ENCODING OF CATEGORICAL DATA"
   ]
  },
  {
   "cell_type": "code",
   "execution_count": 301,
   "id": "b8ab4f63-3971-450c-9b9b-39073f4aed8d",
   "metadata": {},
   "outputs": [],
   "source": [
    "categorical_pipeline = Pipeline([\n",
    "    ('imputer', SimpleImputer(strategy='most_frequent')),\n",
    "    ('onehot', OneHotEncoder(handle_unknown='ignore', sparse_output=True))\n",
    "])"
   ]
  },
  {
   "cell_type": "markdown",
   "id": "a00520c9-ed33-4a10-b56b-16cd7a5cc349",
   "metadata": {},
   "source": [
    "# COLUMN TRANSFORMER"
   ]
  },
  {
   "cell_type": "code",
   "execution_count": 302,
   "id": "e98cf99c-524f-4822-a7c3-857461fded3d",
   "metadata": {},
   "outputs": [],
   "source": [
    "preprocessor = ColumnTransformer(transformers=[\n",
    "    ('num', numeric_pipeline, numeric_features),\n",
    "    ('cat', categorical_pipeline, categorical_features)\n",
    "])"
   ]
  },
  {
   "cell_type": "markdown",
   "id": "a6a89c4e-4cb1-4c4e-95d0-cc2ace429bb5",
   "metadata": {},
   "source": [
    "# PIPELINE"
   ]
  },
  {
   "cell_type": "code",
   "execution_count": 303,
   "id": "0ec714f4-cee0-4364-b1a3-8a703bb5ed6b",
   "metadata": {},
   "outputs": [],
   "source": [
    "pipe = ImbPipeline([\n",
    "    ('preprocessor', preprocessor),\n",
    "    \n",
    "    ('undersampler', RandomUnderSampler(sampling_strategy=0.5, random_state=42)),\n",
    "    #('oversampler', RandomOverSampler(sampling_strategy=0.5, random_state=42)),\n",
    "    ('classifier', RandomForestClassifier(n_estimators=100, random_state=42))\n",
    "    #('classifier',RandomForestClassifier(random_state=42,class_weight=\"balanced\"))\n",
    "], verbose=True) "
   ]
  },
  {
   "cell_type": "code",
   "execution_count": 304,
   "id": "b47d4883-7631-40a3-bd57-88e9fa8cfe6b",
   "metadata": {},
   "outputs": [
    {
     "data": {
      "text/plain": [
       "Default\n",
       "0    13447\n",
       "1     1176\n",
       "Name: count, dtype: int64"
      ]
     },
     "execution_count": 304,
     "metadata": {},
     "output_type": "execute_result"
    }
   ],
   "source": [
    "y_test.value_counts()#IMBALANCED DATA"
   ]
  },
  {
   "cell_type": "code",
   "execution_count": 305,
   "id": "6c7f3a15-1a0d-4b06-81b5-249c85c1625f",
   "metadata": {},
   "outputs": [
    {
     "name": "stdout",
     "output_type": "stream",
     "text": [
      "[Pipeline] ...... (step 1 of 3) Processing preprocessor, total=   0.2s\n",
      "[Pipeline] ...... (step 2 of 3) Processing undersampler, total=   0.0s\n",
      "[Pipeline] ........ (step 3 of 3) Processing classifier, total=   1.7s\n",
      "Pipeline fitted successfully!\n"
     ]
    }
   ],
   "source": [
    "pipe.fit(X_train, y_train)\n",
    "print(\"Pipeline fitted successfully!\")\n"
   ]
  },
  {
   "cell_type": "code",
   "execution_count": 306,
   "id": "a35f6801-5e03-4ee2-b50c-873fae2553ba",
   "metadata": {},
   "outputs": [
    {
     "name": "stdout",
     "output_type": "stream",
     "text": [
      "f1_score 0.3363021018881368\n"
     ]
    }
   ],
   "source": [
    "from sklearn.metrics import f1_score\n",
    "y_pred= pipe.predict(X_test)\n",
    "print(\"f1_score\",f1_score(y_test,y_pred))"
   ]
  },
  {
   "cell_type": "code",
   "execution_count": 307,
   "id": "a53a10b7-6a7e-4c2b-9419-8fa816aa2004",
   "metadata": {},
   "outputs": [
    {
     "name": "stdout",
     "output_type": "stream",
     "text": [
      "              precision    recall  f1-score   support\n",
      "\n",
      "           0       0.95      0.91      0.93     13447\n",
      "           1       0.29      0.40      0.34      1176\n",
      "\n",
      "    accuracy                           0.87     14623\n",
      "   macro avg       0.62      0.66      0.63     14623\n",
      "weighted avg       0.89      0.87      0.88     14623\n",
      "\n"
     ]
    },
    {
     "data": {
      "image/png": "[encoded data removed]",
      "text/plain": [
       "<Figure size 600x500 with 1 Axes>"
      ]
     },
     "metadata": {},
     "output_type": "display_data"
    },
    {
     "data": {
      "image/png": "[encoded data removed]",
      "text/plain": [
       "<Figure size 640x480 with 2 Axes>"
      ]
     },
     "metadata": {},
     "output_type": "display_data"
    }
   ],
   "source": [
    "from sklearn.metrics import classification_report,roc_auc_score,ConfusionMatrixDisplay,roc_curve,RocCurveDisplay\n",
    "y_pred = pipe.predict(X_test)\n",
    "print(classification_report(y_test, y_pred))#recall of 1 was less before undersampling\n",
    "import matplotlib.pyplot as plt\n",
    "y_pred_proba = pipe.predict_proba(X_test)[:, 1]\n",
    "y_pred = pipe.predict(X_test)\n",
    "fpr, tpr, thresholds = roc_curve(y_test, y_pred_proba)\n",
    "roc_auc = roc_auc_score(y_test, y_pred_proba)\n",
    "plt.figure(figsize=(6, 5))\n",
    "plt.plot(fpr, tpr, color='darkorange', lw=2, label=f\"ROC curve (AUC = {roc_auc:.2f})\")\n",
    "plt.plot([0, 1], [0, 1], color='navy', lw=2, linestyle='--')\n",
    "plt.xlabel(\"False Positive Rate\")\n",
    "plt.ylabel(\"True Positive Rate\")\n",
    "plt.title(\"Receiver Operating Characteristic (ROC) Curve\")\n",
    "plt.legend()\n",
    "plt.grid()\n",
    "plt.show()\n",
    "cm = confusion_matrix(y_test, y_pred)\n",
    "disp = ConfusionMatrixDisplay(confusion_matrix=cm, display_labels=pipe.classes_)\n",
    "disp.plot(cmap='Reds')\n",
    "plt.title(\"Confusion Matrix\")\n",
    "plt.show()\n",
    "\n"
   ]
  },
  {
   "cell_type": "markdown",
   "id": "80fb17c2-7576-4ebe-94a5-d8fe9f09af24",
   "metadata": {},
   "source": [
    "# RUNNING MODEL ON TEST DATA"
   ]
  },
  {
   "cell_type": "code",
   "execution_count": 308,
   "id": "b11031ed-9c8b-445e-90d6-df814971ee49",
   "metadata": {
    "scrolled": true
   },
   "outputs": [
    {
     "name": "stderr",
     "output_type": "stream",
     "text": [
      "/var/folders/jk/68b4fv7x6wl0bt7x_p91ftf40000gn/T/ipykernel_11452/1090390974.py:1: DtypeWarning: Columns (7,8,17,18,19,20,35) have mixed types. Specify dtype option on import or set low_memory=False.\n",
      "  df2=pd.read_csv(\"Test.csv\")\n"
     ]
    },
    {
     "name": "stdout",
     "output_type": "stream",
     "text": [
      "✅ Submission file 'submission.csv' created!\n"
     ]
    }
   ],
   "source": [
    "df2=pd.read_csv(\"Test.csv\")\n",
    "test_ids = df2[\"ID\"]\n",
    "all_numeric_cols = ['Client_Income', 'Car_Owned', 'Bike_Owned', 'Active_Loan',\n",
    "                    'House_Own', 'Child_Count', 'Credit_Amount', 'Loan_Annuity',\n",
    "                    'Population_Region_Relative', 'Age_Days', 'Employed_Days',\n",
    "                    'Registration_Days', 'ID_Days', 'Client_Family_Members',\n",
    "                    'Cleint_City_Rating', 'Application_Process_Day',\n",
    "                    'Application_Process_Hour', 'Score_Source_1', 'Score_Source_2',\n",
    "                    'Score_Source_3', 'Social_Circle_Default', 'Phone_Change',\n",
    "                    'Credit_Bureau']\n",
    "for col in all_numeric_cols:\n",
    "    df2[col] = pd.to_numeric(df2[col], errors='coerce')\n",
    "X_submit = df2.drop([\"ID\", \"Type_Organization\"], axis=1)\n",
    "y_submit_pred = pipe.predict(X_submit)\n",
    "submission = pd.DataFrame({\n",
    "    \"ID\": test_ids,\n",
    "    \"Default\": y_submit_pred\n",
    "})\n",
    "submission.to_csv(\"submission.csv\", index=False)\n",
    "print(\"✅ Submission file 'submission.csv' created!\")\n"
   ]
  },
  {
   "cell_type": "raw",
   "id": "83460b48-4040-4d81-869c-f70191a369cd",
   "metadata": {},
   "source": [
    "# before this i had created a pipeline as:\n",
    "trf1 = ColumnTransformer([\n",
    "    (\"imputed_num_data\", SimpleImputer(), numeric_features_indices), instead of features i had put indices before in a seperate variable\n",
    "    (\"imputed_cat_data\", SimpleImputer(strategy=\"most_frequent\"), categorical_features_indices)],\n",
    "    remainder=\"passthrough\")\n",
    "\n",
    "trf2 = ColumnTransformer([\n",
    "    (\"ohe\", OneHotEncoder(drop='first', sparse_output=False, handle_unknown=\"ignore\"), \n",
    "     categorical_features_indices)],\n",
    "    remainder=\"passthrough\")\n",
    "\n",
    "trf3 = ColumnTransformer([\n",
    "    (\"scaling\", StandardScaler(), slice(0, len(numeric_features_indices))])\n",
    "\n",
    "trf4 = RandomForestClassifier(n_estimators=100, random_state=42)\n",
    "pipe = Pipeline([\n",
    "    (\"trf1\", trf1),\n",
    "    (\"trf2\", trf2),\n",
    "    (\"trf3\", trf3),\n",
    "    (\"trf4\", trf4)\n",
    "])\n",
    "\n",
    "#but in this the kernel was dying :((\n"
   ]
  }
 ],
 "metadata": {
  "kernelspec": {
   "display_name": "Python 3 (ipykernel)",
   "language": "python",
   "name": "python3"
  },
  "language_info": {
   "codemirror_mode": {
    "name": "ipython",
    "version": 3
   },
   "file_extension": ".py",
   "mimetype": "text/x-python",
   "name": "python",
   "nbconvert_exporter": "python",
   "pygments_lexer": "ipython3",
   "version": "3.12.7"
  }
 },
 "nbformat": 4,
 "nbformat_minor": 5
}
